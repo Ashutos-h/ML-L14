{
 "cells": [
  {
   "cell_type": "code",
   "execution_count": 1,
   "metadata": {},
   "outputs": [],
   "source": [
    "#Question 1\n",
    "#import libraries\n",
    "import numpy as np\n",
    "import pandas as pd\n",
    "import matplotlib.pyplot as plt\n",
    "import seaborn as sns\n",
    "%matplotlib inline"
   ]
  },
  {
   "cell_type": "code",
   "execution_count": 2,
   "metadata": {},
   "outputs": [],
   "source": [
    "from sklearn import datasets\n",
    "from sklearn.metrics import classification_report , confusion_matrix , accuracy_score"
   ]
  },
  {
   "cell_type": "code",
   "execution_count": 3,
   "metadata": {},
   "outputs": [],
   "source": [
    "data , target = datasets.load_digits(return_X_y = True)"
   ]
  },
  {
   "cell_type": "code",
   "execution_count": 4,
   "metadata": {},
   "outputs": [
    {
     "data": {
      "text/plain": [
       "(1797, 64)"
      ]
     },
     "execution_count": 4,
     "metadata": {},
     "output_type": "execute_result"
    }
   ],
   "source": [
    "data.shape"
   ]
  },
  {
   "cell_type": "code",
   "execution_count": 5,
   "metadata": {},
   "outputs": [
    {
     "data": {
      "text/plain": [
       "(1797,)"
      ]
     },
     "execution_count": 5,
     "metadata": {},
     "output_type": "execute_result"
    }
   ],
   "source": [
    "target.shape"
   ]
  },
  {
   "cell_type": "code",
   "execution_count": 6,
   "metadata": {},
   "outputs": [],
   "source": [
    "x = pd.DataFrame(data = data)"
   ]
  },
  {
   "cell_type": "code",
   "execution_count": 7,
   "metadata": {},
   "outputs": [],
   "source": [
    "y = pd.DataFrame(data = target)"
   ]
  },
  {
   "cell_type": "code",
   "execution_count": 8,
   "metadata": {},
   "outputs": [
    {
     "data": {
      "text/html": [
       "<div>\n",
       "<style scoped>\n",
       "    .dataframe tbody tr th:only-of-type {\n",
       "        vertical-align: middle;\n",
       "    }\n",
       "\n",
       "    .dataframe tbody tr th {\n",
       "        vertical-align: top;\n",
       "    }\n",
       "\n",
       "    .dataframe thead th {\n",
       "        text-align: right;\n",
       "    }\n",
       "</style>\n",
       "<table border=\"1\" class=\"dataframe\">\n",
       "  <thead>\n",
       "    <tr style=\"text-align: right;\">\n",
       "      <th></th>\n",
       "      <th>0</th>\n",
       "    </tr>\n",
       "  </thead>\n",
       "  <tbody>\n",
       "    <tr>\n",
       "      <th>0</th>\n",
       "      <td>0</td>\n",
       "    </tr>\n",
       "    <tr>\n",
       "      <th>1</th>\n",
       "      <td>1</td>\n",
       "    </tr>\n",
       "    <tr>\n",
       "      <th>2</th>\n",
       "      <td>2</td>\n",
       "    </tr>\n",
       "    <tr>\n",
       "      <th>3</th>\n",
       "      <td>3</td>\n",
       "    </tr>\n",
       "    <tr>\n",
       "      <th>4</th>\n",
       "      <td>4</td>\n",
       "    </tr>\n",
       "  </tbody>\n",
       "</table>\n",
       "</div>"
      ],
      "text/plain": [
       "   0\n",
       "0  0\n",
       "1  1\n",
       "2  2\n",
       "3  3\n",
       "4  4"
      ]
     },
     "execution_count": 8,
     "metadata": {},
     "output_type": "execute_result"
    }
   ],
   "source": [
    "y.head()"
   ]
  },
  {
   "cell_type": "code",
   "execution_count": 9,
   "metadata": {},
   "outputs": [],
   "source": [
    "#Question 2\n",
    "from sklearn.model_selection import train_test_split\n",
    "train_x , test_x , train_y , test_y  = train_test_split(x,y,test_size = 0.3 , random_state = 42)"
   ]
  },
  {
   "cell_type": "code",
   "execution_count": 10,
   "metadata": {},
   "outputs": [],
   "source": [
    "#Question 3 a\n",
    "from sklearn.svm import SVC"
   ]
  },
  {
   "cell_type": "code",
   "execution_count": 11,
   "metadata": {},
   "outputs": [
    {
     "name": "stdout",
     "output_type": "stream",
     "text": [
      "0.9796296296296296\n",
      "[[53  0  0  0  0  0  0  0  0  0]\n",
      " [ 0 49  0  0  0  0  0  0  1  0]\n",
      " [ 0  0 47  0  0  0  0  0  0  0]\n",
      " [ 0  0  1 52  0  1  0  0  0  0]\n",
      " [ 0  1  0  0 59  0  0  0  0  0]\n",
      " [ 0  0  0  0  0 64  0  1  0  1]\n",
      " [ 0  0  0  0  0  0 53  0  0  0]\n",
      " [ 0  0  0  0  0  0  0 54  0  1]\n",
      " [ 0  0  0  0  0  1  0  0 42  0]\n",
      " [ 0  0  0  0  1  0  0  1  1 56]]\n",
      "             precision    recall  f1-score   support\n",
      "\n",
      "          0       1.00      1.00      1.00        53\n",
      "          1       0.98      0.98      0.98        50\n",
      "          2       0.98      1.00      0.99        47\n",
      "          3       1.00      0.96      0.98        54\n",
      "          4       0.98      0.98      0.98        60\n",
      "          5       0.97      0.97      0.97        66\n",
      "          6       1.00      1.00      1.00        53\n",
      "          7       0.96      0.98      0.97        55\n",
      "          8       0.95      0.98      0.97        43\n",
      "          9       0.97      0.95      0.96        59\n",
      "\n",
      "avg / total       0.98      0.98      0.98       540\n",
      "\n"
     ]
    },
    {
     "name": "stderr",
     "output_type": "stream",
     "text": [
      "C:\\ProgramData\\Anaconda3\\lib\\site-packages\\sklearn\\utils\\validation.py:578: DataConversionWarning: A column-vector y was passed when a 1d array was expected. Please change the shape of y to (n_samples, ), for example using ravel().\n",
      "  y = column_or_1d(y, warn=True)\n"
     ]
    }
   ],
   "source": [
    "model = SVC(kernel = 'linear')\n",
    "model.fit(train_x , train_y)\n",
    "y_pred = model.predict(test_x)\n",
    "print(accuracy_score(test_y , y_pred))\n",
    "print(confusion_matrix(test_y , y_pred))\n",
    "print(classification_report(test_y , y_pred))"
   ]
  },
  {
   "cell_type": "code",
   "execution_count": 12,
   "metadata": {},
   "outputs": [
    {
     "name": "stdout",
     "output_type": "stream",
     "text": [
      "0.975925925925926\n",
      "[[53  0  0  0  0  0  0  0  0  0]\n",
      " [ 0 47  0  0  0  0  0  0  3  0]\n",
      " [ 0  0 47  0  0  0  0  0  0  0]\n",
      " [ 0  0  0 52  0  1  0  0  1  0]\n",
      " [ 0  0  0  0 60  0  0  0  0  0]\n",
      " [ 0  0  0  0  0 65  0  0  0  1]\n",
      " [ 0  0  0  0  0  0 53  0  0  0]\n",
      " [ 0  0  0  0  0  0  0 54  0  1]\n",
      " [ 0  2  0  0  0  0  0  0 40  1]\n",
      " [ 0  0  0  2  0  0  0  1  0 56]]\n",
      "             precision    recall  f1-score   support\n",
      "\n",
      "          0       1.00      1.00      1.00        53\n",
      "          1       0.96      0.94      0.95        50\n",
      "          2       1.00      1.00      1.00        47\n",
      "          3       0.96      0.96      0.96        54\n",
      "          4       1.00      1.00      1.00        60\n",
      "          5       0.98      0.98      0.98        66\n",
      "          6       1.00      1.00      1.00        53\n",
      "          7       0.98      0.98      0.98        55\n",
      "          8       0.91      0.93      0.92        43\n",
      "          9       0.95      0.95      0.95        59\n",
      "\n",
      "avg / total       0.98      0.98      0.98       540\n",
      "\n"
     ]
    },
    {
     "name": "stderr",
     "output_type": "stream",
     "text": [
      "C:\\ProgramData\\Anaconda3\\lib\\site-packages\\sklearn\\utils\\validation.py:578: DataConversionWarning: A column-vector y was passed when a 1d array was expected. Please change the shape of y to (n_samples, ), for example using ravel().\n",
      "  y = column_or_1d(y, warn=True)\n"
     ]
    }
   ],
   "source": [
    "#3 b\n",
    "model = SVC(kernel = 'poly' , degree = 6)\n",
    "model.fit(train_x , train_y)\n",
    "y_pred = model.predict(test_x)\n",
    "print(accuracy_score(test_y , y_pred))\n",
    "print(confusion_matrix(test_y , y_pred))\n",
    "print(classification_report(test_y , y_pred))"
   ]
  },
  {
   "cell_type": "code",
   "execution_count": 13,
   "metadata": {},
   "outputs": [
    {
     "name": "stderr",
     "output_type": "stream",
     "text": [
      "C:\\ProgramData\\Anaconda3\\lib\\site-packages\\sklearn\\utils\\validation.py:578: DataConversionWarning: A column-vector y was passed when a 1d array was expected. Please change the shape of y to (n_samples, ), for example using ravel().\n",
      "  y = column_or_1d(y, warn=True)\n"
     ]
    },
    {
     "name": "stdout",
     "output_type": "stream",
     "text": [
      "0.3925925925925926\n",
      "[[21  0  0  0  0  0  0  0 32  0]\n",
      " [ 0 21  0  0  0  0  0  0 29  0]\n",
      " [ 0  0 26  0  0  0  0  0 21  0]\n",
      " [ 0  0  0 26  0  0  0  0 28  0]\n",
      " [ 0  0  0  0 15  0  0  0 45  0]\n",
      " [ 0  0  0  0  0  0  0  0 66  0]\n",
      " [ 0  0  0  0  0  0 35  0 18  0]\n",
      " [ 0  0  0  0  0  0  0 19 36  0]\n",
      " [ 0  0  0  0  0  0  0  0 43  0]\n",
      " [ 0  0  0  0  0  0  0  0 53  6]]\n",
      "             precision    recall  f1-score   support\n",
      "\n",
      "          0       1.00      0.40      0.57        53\n",
      "          1       1.00      0.42      0.59        50\n",
      "          2       1.00      0.55      0.71        47\n",
      "          3       1.00      0.48      0.65        54\n",
      "          4       1.00      0.25      0.40        60\n",
      "          5       0.00      0.00      0.00        66\n",
      "          6       1.00      0.66      0.80        53\n",
      "          7       1.00      0.35      0.51        55\n",
      "          8       0.12      1.00      0.21        43\n",
      "          9       1.00      0.10      0.18        59\n",
      "\n",
      "avg / total       0.81      0.39      0.45       540\n",
      "\n"
     ]
    },
    {
     "name": "stderr",
     "output_type": "stream",
     "text": [
      "C:\\ProgramData\\Anaconda3\\lib\\site-packages\\sklearn\\metrics\\classification.py:1135: UndefinedMetricWarning: Precision and F-score are ill-defined and being set to 0.0 in labels with no predicted samples.\n",
      "  'precision', 'predicted', average, warn_for)\n"
     ]
    }
   ],
   "source": [
    "#3 c\n",
    "model = SVC(kernel = 'rbf')\n",
    "model.fit(train_x , train_y)\n",
    "y_pred = model.predict(test_x)\n",
    "print(accuracy_score(test_y , y_pred))\n",
    "print(confusion_matrix(test_y , y_pred))\n",
    "print(classification_report(test_y , y_pred))"
   ]
  },
  {
   "cell_type": "code",
   "execution_count": 14,
   "metadata": {},
   "outputs": [
    {
     "name": "stderr",
     "output_type": "stream",
     "text": [
      "C:\\ProgramData\\Anaconda3\\lib\\site-packages\\sklearn\\utils\\validation.py:578: DataConversionWarning: A column-vector y was passed when a 1d array was expected. Please change the shape of y to (n_samples, ), for example using ravel().\n",
      "  y = column_or_1d(y, warn=True)\n"
     ]
    },
    {
     "name": "stdout",
     "output_type": "stream",
     "text": [
      "0.09259259259259259\n",
      "[[ 0 53  0  0  0  0  0  0  0  0]\n",
      " [ 0 50  0  0  0  0  0  0  0  0]\n",
      " [ 0 47  0  0  0  0  0  0  0  0]\n",
      " [ 0 54  0  0  0  0  0  0  0  0]\n",
      " [ 0 60  0  0  0  0  0  0  0  0]\n",
      " [ 0 66  0  0  0  0  0  0  0  0]\n",
      " [ 0 53  0  0  0  0  0  0  0  0]\n",
      " [ 0 55  0  0  0  0  0  0  0  0]\n",
      " [ 0 43  0  0  0  0  0  0  0  0]\n",
      " [ 0 59  0  0  0  0  0  0  0  0]]\n",
      "             precision    recall  f1-score   support\n",
      "\n",
      "          0       0.00      0.00      0.00        53\n",
      "          1       0.09      1.00      0.17        50\n",
      "          2       0.00      0.00      0.00        47\n",
      "          3       0.00      0.00      0.00        54\n",
      "          4       0.00      0.00      0.00        60\n",
      "          5       0.00      0.00      0.00        66\n",
      "          6       0.00      0.00      0.00        53\n",
      "          7       0.00      0.00      0.00        55\n",
      "          8       0.00      0.00      0.00        43\n",
      "          9       0.00      0.00      0.00        59\n",
      "\n",
      "avg / total       0.01      0.09      0.02       540\n",
      "\n"
     ]
    },
    {
     "name": "stderr",
     "output_type": "stream",
     "text": [
      "C:\\ProgramData\\Anaconda3\\lib\\site-packages\\sklearn\\metrics\\classification.py:1135: UndefinedMetricWarning: Precision and F-score are ill-defined and being set to 0.0 in labels with no predicted samples.\n",
      "  'precision', 'predicted', average, warn_for)\n"
     ]
    }
   ],
   "source": [
    "#3 d\n",
    "model = SVC(kernel = 'sigmoid' , degree = 15)\n",
    "model.fit(train_x , train_y)\n",
    "y_pred = model.predict(test_x)\n",
    "print(accuracy_score(test_y , y_pred))\n",
    "print(confusion_matrix(test_y , y_pred))\n",
    "print(classification_report(test_y , y_pred))"
   ]
  },
  {
   "cell_type": "code",
   "execution_count": null,
   "metadata": {},
   "outputs": [],
   "source": []
  }
 ],
 "metadata": {
  "kernelspec": {
   "display_name": "Python 3",
   "language": "python",
   "name": "python3"
  },
  "language_info": {
   "codemirror_mode": {
    "name": "ipython",
    "version": 3
   },
   "file_extension": ".py",
   "mimetype": "text/x-python",
   "name": "python",
   "nbconvert_exporter": "python",
   "pygments_lexer": "ipython3",
   "version": "3.6.5"
  }
 },
 "nbformat": 4,
 "nbformat_minor": 2
}
